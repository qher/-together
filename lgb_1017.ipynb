{
 "cells": [
  {
   "cell_type": "code",
   "execution_count": null,
   "metadata": {
    "collapsed": true
   },
   "outputs": [],
   "source": [
    "from sklearn import model_selection\n",
    "from sklearn.linear_model import LogisticRegression\n",
    "from sklearn import model_selection\n",
    "from sklearn import metrics\n",
    "import numpy as np\n",
    "import pandas as pd\n",
    "import catboost\n",
    "import gc\n",
    "from sklearn import datasets\n",
    "import lightgbm as lgb"
   ]
  },
  {
   "cell_type": "code",
   "execution_count": null,
   "metadata": {
    "collapsed": true
   },
   "outputs": [],
   "source": [
    "path = './'\n",
    "train_application = pd.read_csv(path + 'train/train_Application.csv')\n",
    "train_history_application = pd.read_csv(path + 'train/train_History_Application.csv')\n",
    "train_history_payment = pd.read_csv(path + 'train/train_History_Payment.csv')\n",
    "train_label = pd.read_csv(path + 'train/train_label.csv')\n",
    "train_personas = pd.read_csv(path + 'train/train_Personas.csv')\n",
    "\n",
    "print('train_application.shape:', train_application.shape)\n",
    "print('train_history_application.shape: ', train_history_application.shape)\n",
    "print('train_history_payment.shape: ', train_history_payment.shape)\n",
    "print('train_label.shape: ', train_label.shape)\n",
    "print('train_personas.shape: ', train_personas.shape)\n",
    "\n",
    "# load test data\n",
    "A_application = pd.read_csv(path + 'A/A_Application.csv')\n",
    "A_history_application = pd.read_csv(path + 'A/A_History_Application.csv')\n",
    "A_history_payment = pd.read_csv(path + 'A/A_History_Payment.csv')\n",
    "A_personas = pd.read_csv(path + 'A/A_Personas.csv')\n",
    "\n",
    "print('A_application.shape', A_application.shape)\n",
    "print('A_history_application.shape:', A_history_application.shape)\n",
    "print('A_history_payment.shape:', A_history_payment.shape)\n",
    "print('A_personas.shape: ', A_personas.shape)"
   ]
  },
  {
   "cell_type": "markdown",
   "metadata": {},
   "source": [
    "# history_application_feature"
   ]
  },
  {
   "cell_type": "code",
   "execution_count": 3,
   "metadata": {},
   "outputs": [
    {
     "name": "stderr",
     "output_type": "stream",
     "text": [
      "D:\\software\\anaconda\\envs\\universal\\lib\\site-packages\\pandas\\core\\indexing.py:1418: FutureWarning: \n",
      "Passing list-likes to .loc or [] with any missing label will raise\n",
      "KeyError in the future, you can use .reindex() as an alternative.\n",
      "\n",
      "See the documentation here:\n",
      "https://pandas.pydata.org/pandas-docs/stable/user_guide/indexing.html#deprecate-loc-reindex-listlike\n",
      "  return self._getitem_tuple(key)\n"
     ]
    },
    {
     "name": "stdout",
     "output_type": "stream",
     "text": [
      "category shape: (153006, 155)\n",
      "shape: (153006, 218)\n",
      "55.59946894645691\n"
     ]
    }
   ],
   "source": [
    "def encode_category_feature(data, category_name_list):\n",
    "    \"\"\"统计类别变量中每个用户在每个类别的数量\n",
    "       输入原始数 和 类别变量名，返回每个申请编号下的用户每个类别的统计值\n",
    "    \"\"\"\n",
    "    ans = pd.DataFrame(data['申请编号'].unique(), columns=['申请编号'])\n",
    "    for col_name in category_name_list:\n",
    "        cols = ['申请编号', '历史申请编号'] + [col_name]\n",
    "        df_tmp = data.loc[:, cols].copy()\n",
    "        groupby_col = ['申请编号'] + [col_name]\n",
    "        df_tmp_groupby = df_tmp.groupby(groupby_col, as_index=True).count()\n",
    "        df_unstack = df_tmp_groupby.unstack(level=-1)\n",
    "        new_names = [df_unstack.columns.names[1] + '_' + str(i[1]) for i in df_unstack.columns]\n",
    "        ans_tmp = pd.DataFrame(data=df_unstack.values, index=df_unstack.index, columns=new_names).reset_index(drop=False)\n",
    "        \n",
    "        ans = pd.merge(left=ans, right=ans_tmp, on='申请编号', how='outer')\n",
    "    ans.fillna(0, inplace=True)\n",
    "    print('category shape:', ans.shape)\n",
    "    return ans, category_name_list\n",
    "\n",
    "def history_application_feature_li(train_history_application_, test_history_application_):\n",
    "    all_History_Application = pd.concat([train_history_application_, test_history_application_],axis=0)\n",
    "    all_History_Application = all_History_Application.reset_index(drop=True)\n",
    "    all_History_Application = all_History_Application.rename(columns={'贷款类型':'历史贷款类型','贷款年金':'历史贷款年金',\n",
    "                                                                    '信用额度':'历史信用额度','商品价格':'历史商品价格', })\n",
    "    all_History_Application['历史贷款年金'] =all_History_Application['历史贷款年金'].fillna(0)\n",
    "    all_History_Application['贷款期数'] =all_History_Application['贷款期数'].fillna(0)\n",
    "    all_History_Application['首付金额'] =all_History_Application['首付金额'].fillna(0)\n",
    "    all_History_Application['首付率'] =all_History_Application['首付率'].fillna(0)\n",
    "    all_History_Application['陪同申请人'] =all_History_Application['陪同申请人'].fillna(99)\n",
    "    all_History_Application['首付时间'] =all_History_Application['首付时间'].fillna(0)\n",
    "    all_History_Application['产品组合'] =all_History_Application['产品组合'].fillna(99)\n",
    "    all_History_Application = all_History_Application.drop(columns=['利率1','利率2'])\n",
    "    记录', '是否为当天最后一次申请记录', \n",
    "                                     '贷款用途', '合同状态', '付款方式', '拒绝原因', '陪同申请人', '客户类型', '商品类别', \n",
    "                                     '组合类型', '产品类型', '获客渠道', '行业', '收益级别', '产品组合']\n",
    "    all_History_Application_category_feature, _ = encode_category_feature(all_History_Application, history_application_category_cols)\n",
    "    \n",
    "    # 连续型变量的统计特征  \n",
    "    all_History_Application_groupby = all_History_Application.loc[:, [\"申请编号\",'历史贷款年金', '申请额度', '信用额度', '首付金额',\n",
    "                                                                      '商品价格', '首付率', '历史贷款授信距本次申请时间', \n",
    "                                                                      '贷款期数', '首付时间']].groupby(by=[\"申请编号\"],as_index=False)\n",
    "    \n",
    "    all_History_Application_count = all_History_Application_groupby.count().rename(columns={\"贷款期数\": \"count_贷款期数\"})\n",
    "    all_History_Application_sum =all_History_Application_groupby.sum().rename(columns={\"历史贷款年金\": \"sum_历史贷款年金\",\n",
    "                                                                                       \"申请额度\": \"sum_申请额度\",\n",
    "                                                                                       \"信用额度\":\"sum_信用额度\", \n",
    "                                                                                       \"首付金额\":\"sum_首付金额\",\n",
    "                                                                                       \"商品价格\":\"sum_商品价格\",\n",
    "                                                                                       \"首付率\": \"sum_首付率\",\n",
    "                                                                                       \"历史贷款授信距本次申请时间\": \"sum_历史贷款授信距本次申请时间\",\n",
    "                                                                                       \"贷款期数\": \"sum_贷款期数\",\n",
    "                                                                                       \"首付时间\": \"sum_首付时间\"})\n",
    "    all_History_Application_max =all_History_Application_groupby.max().rename(columns={\"历史贷款年金\": \"max_历史贷款年金\",\n",
    "                                                                                           \"申请额度\": \"max_申请额度\",\n",
    "                                                                                           \"信用额度\":\"max_信用额度\", \n",
    "                                                                                           \"首付金额\":\"max_首付金额\",\n",
    "                                                                                           \"商品价格\":\"max_商品价格\",\n",
    "                                                                                           \"首付率\": \"max_首付率\",\n",
    "                                                                                           \"历史贷款授信距本次申请时间\": \"max_历史贷款授信距本次申请时间\",\n",
    "                                                                                           \"贷款期数\": \"max_贷款期数\",\n",
    "                                                                                           \"首付时间\": \"max_首付时间\"})\n",
    "\n",
    "    all_History_Application_min =all_History_Application_groupby.min().rename(columns={\"历史贷款年金\": \"min_历史贷款年金\",\n",
    "                                                                                       \"申请额度\": \"min_申请额度\",\n",
    "                                                                                       \"信用额度\":\"min_信用额度\", \n",
    "                                                                                       \"首付金额\":\"min_首付金额\",\n",
    "                                                                                       \"商品价格\":\"min_商品价格\",\n",
    "                                                                                       \"首付率\": \"min_首付率\",\n",
    "                                                                                       \"历史贷款授信距本次申请时间\": \"min_历史贷款授信距本次申请时间\",\n",
    "                                                                                       \"贷款期数\": \"min_贷款期数\",\n",
    "                                                                                       \"首付时间\": \"min_首付时间\"})\n",
    "    all_History_Application_mean =all_History_Application_groupby.mean().rename(columns={\"历史贷款年金\": \"mean_历史贷款年金\",\n",
    "                                                                                       \"申请额度\": \"mean_申请额度\",\n",
    "                                                                                       \"信用额度\":\"mean_信用额度\", \n",
    "                                                                                       \"首付金额\":\"mean_首付金额\",\n",
    "                                                                                       \"商品价格\":\"mean_商品价格\",\n",
    "                                                                                        \"首付率\": \"mean_首付率\",\n",
    "                                                                                       \"历史贷款授信距本次申请时间\": \"mean_历史贷款授信距本次申请时间\",\n",
    "                                                                                       \"贷款期数\": \"mean_贷款期数\",\n",
    "                                                                                       \"首付时间\": \"mean_首付时间\"})\n",
    "    all_History_Application_std =all_History_Application_groupby.std().rename(columns={\"历史贷款年金\": \"std_历史贷款年金\",\n",
    "                                                                                       \"申请额度\": \"std_申请额度\",\n",
    "                                                                                       \"信用额度\":\"std_信用额度\", \n",
    "                                                                                       \"首付金额\":\"std_首付金额\",\n",
    "                                                                                       \"商品价格\":\"std_商品价格\",\n",
    "                                                                                       \"首付率\": \"std_首付率\",\n",
    "                                                                                       \"历史贷款授信距本次申请时间\": \"std_历史贷款授信距本次申请时间\",\n",
    "                                                                                       \"贷款期数\": \"std_贷款期数\",\n",
    "                                                                                       \"首付时间\": \"std_首付时间\"})\n",
    "    all_History_Application_std['申请编号'] = all_History_Application_mean['申请编号'].copy()\n",
    "\n",
    "#     all_History_Application_skew =all_History_Application_groupby.skew().rename(columns={\"历史贷款年金\": \"skew_历史贷款年金\",\n",
    "#                                                                                        \"申请额度\": \"skew_申请额度\",\n",
    "#                                                                                        \"信用额度\":\"skew_信用额度\", \n",
    "#                                                                                        \"首付金额\":\"skew_首付金额\",\n",
    "#                                                                                        \"商品价格\":\"skew_商品价格\", \n",
    "#                                                                                        \"首付率\": \"skew_首付率\",\n",
    "#                                                                                        \"历史贷款授信距本次申请时间\": \"skew_历史贷款授信距本次申请时间\",\n",
    "#                                                                                        \"贷款期数\": \"skew_贷款期数\",\n",
    "#                                                                                        \"首付时间\": \"skew_首付时间\"})\n",
    "    all_History_Application_skew['申请编号'] = all_History_Application_mean['申请编号'].copy()\n",
    "    \n",
    "    df_list = [all_History_Application_count, all_History_Application_sum, all_History_Application_max, all_History_Application_min, \n",
    "               all_History_Application_mean, all_History_Application_std, all_History_Application_skew, all_History_Application_category_feature, ]\n",
    "    ans = pd.DataFrame(all_History_Application['申请编号'].unique(), columns=['申请编号'])\n",
    "    for df in df_list:\n",
    "        ans = pd.merge(left=ans, right=df, on='申请编号', how='outer')\n",
    "    print('shape:', ans.shape)\n",
    "    return ans\n",
    "    \n",
    "import time\n",
    "t0 = time.time()\n",
    "history_application_feature = history_application_feature_li(train_history_application, A_history_application)  \n",
    "print(time.time() - t0)"
   ]
  },
  {
   "cell_type": "markdown",
   "metadata": {},
   "source": [
    "# history_payment"
   ]
  },
  {
   "cell_type": "code",
   "execution_count": 4,
   "metadata": {},
   "outputs": [
    {
     "name": "stdout",
     "output_type": "stream",
     "text": [
      "payment shape: (153309, 25)\n",
      "(153309, 25)\n"
     ]
    }
   ],
   "source": [
    "def history_payment_feature(train_history_payment, test_history_payment):\n",
    "    data = pd.concat([train_history_payment, test_history_payment])\n",
    "    data_groupby = data.groupby(['申请编号']).agg(['count', 'mean', 'min', 'max', 'std'])\n",
    "    col_index = list(data_groupby.columns)\n",
    "    col_name = [tmp[0] + '_' + tmp[1] for tmp in col_index]\n",
    "    df = pd.DataFrame(data_groupby.values, columns=col_name)\n",
    "    df['申请编号'] = data_groupby.index\n",
    "\n",
    "    tmp_na = all_History_Application.loc[all_History_Application['历史贷款类型']!=all_History_Application['历史贷款类型']]\n",
    "    tmp_not_na = all_History_Application.loc[all_History_Application['历史贷款类型']==all_History_Application['历史贷款类型']]\n",
    "    tmp_na = pd.merge(tmp_na,all_train_base,left_on='申请编号',right_on='申请编号',how='left')\n",
    "    tmp_na = tmp_na.drop(['历史贷款类型'],axis=1)\n",
    "    tmp_na = tmp_na.rename(columns={'贷款类型':'历史贷款类型'})\n",
    "    all_History_Application0 = tmp_na.append(tmp_not_na)\n",
    "    all_History_Application0['历史贷款类型'] = all_History_Application0['历史贷款类型'].apply(lambda x:str(x) if x==x else x)\n",
    "    \n",
    "        \n",
    "    drop_cols = ['历史申请编号_count', '历史申请编号_mean', '历史申请编号_min', '历史申请编号_max', '历史申请编号_std']\n",
    "    for col in df.columns:\n",
    "        if '_count' in col and col != '贷款年金_count':\n",
    "            drop_cols.append(col)\n",
    "    df.drop(columns=drop_cols, inplace=True)\n",
    "    print('payment shape:', df.shape)\n",
    "    return df\n",
    "\n",
    "paymeny_feature = history_payment_feature(train_history_payment, A_history_payment)\n",
    "print(paymeny_feature.shape)\n"
   ]
  },
  {
   "cell_type": "markdown",
   "metadata": {},
   "source": [
    "# application"
   ]
  },
  {
   "cell_type": "code",
   "execution_count": 5,
   "metadata": {},
   "outputs": [
    {
     "name": "stdout",
     "output_type": "stream",
     "text": [
      "application shape: (161511, 35)\n"
     ]
    }
   ],
   "source": [
    "# def get_application_feature(train_application, test_application):\n",
    "#     data = pd.concat([train_application, test_application])\n",
    "#     data['工作日期距申请日期天数_01flag'] = data['工作日期距申请日期天数'].apply(lambda x: 0 if x >0 else 1)\n",
    "#     data['贷款申请前1个季度内征信查询次数_01flag'] = data['贷款申请前1个季度内征信查询次数'].apply(lambda x: 1 if x > 0 else 0)\n",
    "#     data['贷款申请前1天内征信查询次数_01flag'] = data['贷款申请前1天内征信查询次数'].apply(lambda x: 1 if x > 0 else 0)\n",
    "#     data['贷款申请前1小时内征信查询次数_01flag'] = data['贷款申请前1小时内征信查询次数'].apply(lambda x: 1 if x > 0 else 0)\n",
    "#     print(\"application shape:\", data.shape)\n",
    "#     return data\n",
    "\n",
    "# application_feature = get_application_feature(train_application, A_application)\n"
   ]
  },
  {
   "cell_type": "markdown",
   "metadata": {},
   "source": [
    "# personas"
   ]
  },
  {
   "cell_type": "code",
   "execution_count": 6,
   "metadata": {},
   "outputs": [
    {
     "name": "stdout",
     "output_type": "stream",
     "text": [
      "personas shape: (161511, 32)\n"
     ]
    }
   ],
   "source": [
    "def get_presonas_feature(train_application, test_application):\n",
    "    data = pd.concat([train_personas, A_personas])\n",
    "    data['孩子个数'] = data['孩子个数'].apply(lambda x: x if x < 3 else 3)\n",
    "    data['客户收入'] = data['客户收入'].apply(lambda x: x if x < 240000 else 240000)\n",
    "    data['社交圈违约信息1_2'] = data['社交圈违约信息1_2'].apply(lambda x: x if x < 20 else 20)\n",
    "    print(\"personas shape:\", data.shape)\n",
    "    return data\n",
    "personas_features = get_presonas_feature(train_personas, A_personas)"
   ]
  },
  {
   "cell_type": "code",
   "execution_count": 7,
   "metadata": {},
   "outputs": [
    {
     "name": "stdout",
     "output_type": "stream",
     "text": [
      "feature shape: (161511, 308)\n"
     ]
    }
   ],
   "source": [
    "tabel_list = [application_feature, personas_features, history_application_feature, paymeny_feature, train_label]\n",
    "ans = application_feature['申请编号'].copy()\n",
    "for table in tabel_list:\n",
    "    ans = pd.merge(left=ans, right=table, on='申请编号', how='outer')\n",
    "print('feature shape:', ans.shape)"
   ]
  },
  {
   "cell_type": "code",
   "execution_count": 9,
   "metadata": {},
   "outputs": [
    {
     "data": {
      "text/plain": [
       "['../data/feature_308']"
      ]
     },
     "execution_count": 9,
     "metadata": {},
     "output_type": "execute_result"
    }
   ],
   "source": [
    "import joblib\n",
    "joblib.dump(ans, '../data/feature_308')"
   ]
  },
  {
   "cell_type": "code",
   "execution_count": 10,
   "metadata": {
    "collapsed": true
   },
   "outputs": [],
   "source": [
    "ans['标签'].fillna(-1, inplace=True)"
   ]
  },
  {
   "cell_type": "code",
   "execution_count": 11,
   "metadata": {},
   "outputs": [
    {
     "data": {
      "text/plain": [
       " 0.0    119000\n",
       "-1.0     21511\n",
       " 1.0     21000\n",
       "Name: 标签, dtype: int64"
      ]
     },
     "execution_count": 11,
     "metadata": {},
     "output_type": "execute_result"
    }
   ],
   "source": [
    "ans['标签'].value_counts()"
   ]
  },
  {
   "cell_type": "code",
   "execution_count": 19,
   "metadata": {},
   "outputs": [
    {
     "name": "stdout",
     "output_type": "stream",
     "text": [
      "test shape: (21511, 306)\n",
      "label shape: (140000,)\n",
      "train shape: (140000, 306)\n"
     ]
    },
    {
     "name": "stderr",
     "output_type": "stream",
     "text": [
      "D:\\software\\anaconda\\envs\\universal\\lib\\site-packages\\pandas\\core\\frame.py:4102: SettingWithCopyWarning: \n",
      "A value is trying to be set on a copy of a slice from a DataFrame\n",
      "\n",
      "See the caveats in the documentation: http://pandas.pydata.org/pandas-docs/stable/user_guide/indexing.html#returning-a-view-versus-a-copy\n",
      "  errors=errors,\n"
     ]
    }
   ],
   "source": [
    "test = ans[ans['标签'] == -1].copy()\n",
    "test_id = test['申请编号'].copy()\n",
    "test.drop(columns=['标签', '申请编号'], inplace=True)\n",
    "print('test shape:', test.shape)\n",
    "train = ans[(ans['标签'] == -0) | (ans['标签'] == 1)]\n",
    "label = train['标签'].copy()\n",
    "print('label shape:', label.shape)\n",
    "train.drop(columns=['标签', '申请编号'], inplace=True)\n",
    "print('train shape:', train.shape)\n"
   ]
  },
  {
   "cell_type": "code",
   "execution_count": 20,
   "metadata": {
    "collapsed": true
   },
   "outputs": [],
   "source": [
    "def train_model_lgb(train, label, test):\n",
    "    def ks(y_label, pred):\n",
    "        fpr, tpr, thresholds= metrics.roc_curve(y_label, pred)\n",
    "        ks = max(tpr-fpr)\n",
    "        return 'ks', ks, True\n",
    "\n",
    "    x_train, x_test, y_train, y_test = model_selection.train_test_split(train, label, train_size=0.80, random_state=345)\n",
    "\n",
    "    model = lgb.LGBMClassifier(random_seed=2019, n_jobs=-1, objective='binary',\n",
    "                               learning_rate=0.005, n_estimators=60000, num_leaves=31, max_depth=-1,\n",
    "                               min_child_samples=3, min_child_weight=1, subsample_freq=1, \n",
    "                               subsample=0.7, colsample_bytree=0.7, reg_alpha=1, reg_lambda=5)\n",
    "    \n",
    "    model.fit(x_train, y_train, eval_set=[(x_train, y_train), (x_test, y_test)], eval_metric=ks,\\\n",
    "              verbose=500, early_stopping_rounds=500)\n",
    "    model.n_estimators = model.best_iteration_\n",
    "    pre_train = model.predict_proba(x_train)[:, 1]\n",
    "    pre_test = model.predict_proba(x_test)[:, 1]\n",
    "    pre_evl = model.predict_proba(test)[:, 1]\n",
    "    \n",
    "    print('train ks:', ks(y_train, pre_train)[1])\n",
    "    print('validation ks:', ks(y_test, pre_test)[1])\n",
    "    return model, pre_train, pre_test, pre_evl"
   ]
  },
  {
   "cell_type": "code",
   "execution_count": 21,
   "metadata": {},
   "outputs": [
    {
     "name": "stdout",
     "output_type": "stream",
     "text": [
      "Training until validation scores don't improve for 500 rounds.\n",
      "[500]\ttraining's binary_logloss: 0.376923\ttraining's ks: 0.380095\tvalid_1's binary_logloss: 0.385445\tvalid_1's ks: 0.334776\n",
      "[1000]\ttraining's binary_logloss: 0.362922\ttraining's ks: 0.412874\tvalid_1's binary_logloss: 0.377825\tvalid_1's ks: 0.348538\n",
      "[1500]\ttraining's binary_logloss: 0.354113\ttraining's ks: 0.435832\tvalid_1's binary_logloss: 0.374967\tvalid_1's ks: 0.356882\n",
      "[2000]\ttraining's binary_logloss: 0.34702\ttraining's ks: 0.456896\tvalid_1's binary_logloss: 0.373649\tvalid_1's ks: 0.358547\n",
      "[2500]\ttraining's binary_logloss: 0.340767\ttraining's ks: 0.478107\tvalid_1's binary_logloss: 0.372888\tvalid_1's ks: 0.361064\n",
      "[3000]\ttraining's binary_logloss: 0.335089\ttraining's ks: 0.496297\tvalid_1's binary_logloss: 0.372371\tvalid_1's ks: 0.362364\n",
      "[3500]\ttraining's binary_logloss: 0.329741\ttraining's ks: 0.513948\tvalid_1's binary_logloss: 0.372098\tvalid_1's ks: 0.363047\n",
      "[4000]\ttraining's binary_logloss: 0.324594\ttraining's ks: 0.530516\tvalid_1's binary_logloss: 0.37188\tvalid_1's ks: 0.36454\n",
      "[4500]\ttraining's binary_logloss: 0.319633\ttraining's ks: 0.545383\tvalid_1's binary_logloss: 0.37174\tvalid_1's ks: 0.363902\n",
      "[5000]\ttraining's binary_logloss: 0.314867\ttraining's ks: 0.560603\tvalid_1's binary_logloss: 0.371594\tvalid_1's ks: 0.365935\n",
      "[5500]\ttraining's binary_logloss: 0.310273\ttraining's ks: 0.575032\tvalid_1's binary_logloss: 0.371505\tvalid_1's ks: 0.366266\n",
      "[6000]\ttraining's binary_logloss: 0.305779\ttraining's ks: 0.59036\tvalid_1's binary_logloss: 0.371432\tvalid_1's ks: 0.366659\n",
      "[6500]\ttraining's binary_logloss: 0.301436\ttraining's ks: 0.604355\tvalid_1's binary_logloss: 0.371421\tvalid_1's ks: 0.366939\n",
      "Early stopping, best iteration is:\n",
      "[6037]\ttraining's binary_logloss: 0.305446\ttraining's ks: 0.591245\tvalid_1's binary_logloss: 0.371439\tvalid_1's ks: 0.367751\n",
      "train ks: 0.5912453762465909\n",
      "validation ks: 0.36775056301306147\n"
     ]
    }
   ],
   "source": [
    "model, pre_train, pre_test, pre_evl = train_model_lgb(train, label, test)"
   ]
  },
  {
   "cell_type": "code",
   "execution_count": null,
   "metadata": {
    "collapsed": true
   },
   "outputs": [],
   "source": [
    "ans.to_csv('../submit/pre_test_9.csv', columns=['申请编号', 'result'], index=None, header=None, encoding='UTF-8')"
   ]
  }
 ],
 "metadata": {
  "anaconda-cloud": {},
  "kernelspec": {
   "display_name": "Python 3",
   "language": "python",
   "name": "python3"
  },
  "language_info": {
   "codemirror_mode": {
    "name": "ipython",
    "version": 3
   },
   "file_extension": ".py",
   "mimetype": "text/x-python",
   "name": "python",
   "nbconvert_exporter": "python",
   "pygments_lexer": "ipython3",
   "version": "3.7.4"
  }
 },
 "nbformat": 4,
 "nbformat_minor": 2
}
