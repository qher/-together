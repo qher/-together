{
 "cells": [
  {
   "cell_type": "code",
   "execution_count": 2,
   "metadata": {},
   "outputs": [],
   "source": [
    "import numpy as np\n",
    "import pandas as pd\n",
    "import catboost as cbt\n",
    "import lightgbm as lgb\n",
    "from sklearn.metrics import f1_score\n",
    "import gc\n",
    "from tqdm import tqdm\n",
    "import time\n",
    "from sklearn.model_selection import StratifiedKFold\n",
    "from sklearn import preprocessing\n",
    "from sklearn.preprocessing import LabelEncoder\n",
    "from collections import Counter\n",
    "import matplotlib.pyplot as plt\n",
    "from datetime import timedelta, datetime\n",
    "\n",
    "import warnings\n",
    "warnings.filterwarnings('ignore')"
   ]
  },
  {
   "cell_type": "code",
   "execution_count": 28,
   "metadata": {},
   "outputs": [],
   "source": [
    "test_pred1 = pd.read_csv('./sub/A_test_03_lgb_0.3742.csv', header=None, names = ['a','b'])  # 94.46091\n",
    "test_pred2 = pd.read_csv('./sub/sub105.csv', header=None, names = ['a','b'])  # 94.49497\n",
    "test_pred = 0.75*test_pred1['b'] + 0.25*test_pred2['b']\n",
    "A_Application = pd.read_csv('./A/A_Application.csv')\n",
    "submit = A_Application[['申请编号']]\n",
    "submit['pre'] = test_pred\n",
    "submit.to_csv('submit102.csv', index=None, header=None, encoding='UTF-8')"
   ]
  },
  {
   "cell_type": "code",
   "execution_count": 29,
   "metadata": {},
   "outputs": [
    {
     "data": {
      "text/html": [
       "<div>\n",
       "<style scoped>\n",
       "    .dataframe tbody tr th:only-of-type {\n",
       "        vertical-align: middle;\n",
       "    }\n",
       "\n",
       "    .dataframe tbody tr th {\n",
       "        vertical-align: top;\n",
       "    }\n",
       "\n",
       "    .dataframe thead th {\n",
       "        text-align: right;\n",
       "    }\n",
       "</style>\n",
       "<table border=\"1\" class=\"dataframe\">\n",
       "  <thead>\n",
       "    <tr style=\"text-align: right;\">\n",
       "      <th></th>\n",
       "      <th>122687</th>\n",
       "      <th>0.05495758156482424</th>\n",
       "    </tr>\n",
       "  </thead>\n",
       "  <tbody>\n",
       "    <tr>\n",
       "      <td>0</td>\n",
       "      <td>32425</td>\n",
       "      <td>0.078916</td>\n",
       "    </tr>\n",
       "    <tr>\n",
       "      <td>1</td>\n",
       "      <td>2024</td>\n",
       "      <td>0.185687</td>\n",
       "    </tr>\n",
       "    <tr>\n",
       "      <td>2</td>\n",
       "      <td>25019</td>\n",
       "      <td>0.138079</td>\n",
       "    </tr>\n",
       "    <tr>\n",
       "      <td>3</td>\n",
       "      <td>162532</td>\n",
       "      <td>0.112661</td>\n",
       "    </tr>\n",
       "    <tr>\n",
       "      <td>4</td>\n",
       "      <td>9398</td>\n",
       "      <td>0.216730</td>\n",
       "    </tr>\n",
       "    <tr>\n",
       "      <td>...</td>\n",
       "      <td>...</td>\n",
       "      <td>...</td>\n",
       "    </tr>\n",
       "    <tr>\n",
       "      <td>21505</td>\n",
       "      <td>100366</td>\n",
       "      <td>0.355150</td>\n",
       "    </tr>\n",
       "    <tr>\n",
       "      <td>21506</td>\n",
       "      <td>74412</td>\n",
       "      <td>0.027579</td>\n",
       "    </tr>\n",
       "    <tr>\n",
       "      <td>21507</td>\n",
       "      <td>26984</td>\n",
       "      <td>0.084110</td>\n",
       "    </tr>\n",
       "    <tr>\n",
       "      <td>21508</td>\n",
       "      <td>147619</td>\n",
       "      <td>0.174102</td>\n",
       "    </tr>\n",
       "    <tr>\n",
       "      <td>21509</td>\n",
       "      <td>64751</td>\n",
       "      <td>0.183890</td>\n",
       "    </tr>\n",
       "  </tbody>\n",
       "</table>\n",
       "<p>21510 rows × 2 columns</p>\n",
       "</div>"
      ],
      "text/plain": [
       "       122687  0.05495758156482424\n",
       "0       32425             0.078916\n",
       "1        2024             0.185687\n",
       "2       25019             0.138079\n",
       "3      162532             0.112661\n",
       "4        9398             0.216730\n",
       "...       ...                  ...\n",
       "21505  100366             0.355150\n",
       "21506   74412             0.027579\n",
       "21507   26984             0.084110\n",
       "21508  147619             0.174102\n",
       "21509   64751             0.183890\n",
       "\n",
       "[21510 rows x 2 columns]"
      ]
     },
     "execution_count": 29,
     "metadata": {},
     "output_type": "execute_result"
    }
   ],
   "source": [
    "pd.read_csv('submit102.csv')"
   ]
  },
  {
   "cell_type": "code",
   "execution_count": null,
   "metadata": {},
   "outputs": [],
   "source": [
    "test_pred1 = pd.read_csv('../sub/A_test_03_lgb_0.3742.csv')  # 94.46091\n",
    "test_pred2 = pd.read_csv('../sub/sub105.csv')  # 94.49497\n",
    "# test_pred3 = pd.read_csv('baseline_cat080504.csv')  # 94.44489\n",
    "# test_pred4 = pd.read_csv('baseline_catboost_0819.csv')  # 94.49088\n",
    "\n",
    "test_pred = 0.53*test_pred1['label'] + 0.47*test_pred2['label']\n",
    "submit = test[['sid']]\n",
    "submit['label'] = (test_pred >= 0.5).astype(int)\n",
    "print(submit['label'].value_counts())\n",
    "submit.to_csv(\"lgb_cat_cv_0820_3.csv\", index=False)"
   ]
  },
  {
   "cell_type": "code",
   "execution_count": null,
   "metadata": {},
   "outputs": [],
   "source": []
  },
  {
   "cell_type": "code",
   "execution_count": null,
   "metadata": {},
   "outputs": [],
   "source": []
  },
  {
   "cell_type": "code",
   "execution_count": null,
   "metadata": {},
   "outputs": [],
   "source": []
  },
  {
   "cell_type": "code",
   "execution_count": null,
   "metadata": {},
   "outputs": [],
   "source": []
  },
  {
   "cell_type": "code",
   "execution_count": null,
   "metadata": {},
   "outputs": [],
   "source": []
  },
  {
   "cell_type": "code",
   "execution_count": null,
   "metadata": {},
   "outputs": [],
   "source": []
  },
  {
   "cell_type": "code",
   "execution_count": null,
   "metadata": {},
   "outputs": [],
   "source": []
  }
 ],
 "metadata": {
  "kernelspec": {
   "display_name": "Python 3",
   "language": "python",
   "name": "python3"
  },
  "language_info": {
   "codemirror_mode": {
    "name": "ipython",
    "version": 3
   },
   "file_extension": ".py",
   "mimetype": "text/x-python",
   "name": "python",
   "nbconvert_exporter": "python",
   "pygments_lexer": "ipython3",
   "version": "3.7.4"
  }
 },
 "nbformat": 4,
 "nbformat_minor": 2
}
